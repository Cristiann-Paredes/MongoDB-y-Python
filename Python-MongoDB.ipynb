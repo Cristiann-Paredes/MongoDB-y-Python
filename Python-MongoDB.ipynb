{
 "cells": [
  {
   "cell_type": "code",
   "execution_count": 56,
   "id": "f984bf2f-d72e-4146-8ad9-760ff42429ae",
   "metadata": {},
   "outputs": [],
   "source": [
    "import pandas as pd\n",
    "from pymongo  import MongoClient\n",
    "client = MongoClient(\"127.0.0.1\",27017)\n",
    "database = client.bestselling\n",
    "collection = database[\"book\"]"
   ]
  },
  {
   "cell_type": "code",
   "execution_count": null,
   "id": "2acafeb2",
   "metadata": {},
   "outputs": [],
   "source": [
    "def create(book_data): #Agregar un libro\n",
    "    result = collection.insert_one(book_data)\n",
    "    print(f\"Nuevo libro insertado. ID: {result.inserted_id}\")"
   ]
  },
  {
   "cell_type": "code",
   "execution_count": null,
   "id": "8ae4ff85",
   "metadata": {},
   "outputs": [],
   "source": [
    "def delete(book_name): # Eliminar un libro por el nombre\n",
    "    delete_criteria = {\"Name\": book_name}\n",
    "    collection.delete_one(delete_criteria)\n",
    "    print(f\"Libro '{book_name}' eliminado.\")"
   ]
  },
  {
   "cell_type": "code",
   "execution_count": null,
   "metadata": {},
   "outputs": [],
   "source": [
    "def update(): \n",
    "    update_all_criteria = {\"Genre\": \"Ficción\"}\n",
    "    update_all_data = {\"$set\": {\"Genre\": \"No Ficción\"}}\n",
    "    collection.update_many(update_all_criteria, update_all_data)\n",
    "    print(\"Género de libros actualizado a No Ficción.\")"
   ]
  },
  {
   "cell_type": "code",
   "execution_count": null,
   "id": "453895b2",
   "metadata": {},
   "outputs": [],
   "source": [
    "def mostrarTodosLosLibros():\n",
    "    all_books = collection.find()\n",
    "    df = pd.DataFrame(list(all_books))\n",
    "    print(\"Todos los libros:\")\n",
    "    print(df)"
   ]
  },
  {
   "cell_type": "code",
   "execution_count": null,
   "id": "a2926acf",
   "metadata": {},
   "outputs": [],
   "source": [
    "def mostrarLibrosConCalificacionMayorA(min_rating):\n",
    "    high_rated_books = collection.find({\"User Rating\": {\"$gt\": min_rating}})\n",
    "    df = pd.DataFrame(list(high_rated_books))\n",
    "    print(f\"Libros con calificación de usuario superior a {min_rating}:\")\n",
    "    print(df)"
   ]
  },
  {
   "cell_type": "code",
   "execution_count": null,
   "id": "2a9b6cc1",
   "metadata": {},
   "outputs": [],
   "source": [
    "def updateLibroHora(book_name, new_price):\n",
    "    update_criteria = {\"Name\": book_name}\n",
    "    update_data = {\"$set\": {\"Price\": new_price}}\n",
    "    collection.update_one(update_criteria, update_data)\n",
    "    print(f\"Precio del libro '{book_name}' actualizado.\")"
   ]
  },
  {
   "cell_type": "code",
   "execution_count": null,
   "id": "dffe4c2d",
   "metadata": {},
   "outputs": [],
   "source": [
    "def mostrarLibroDespuesDelAnio(year):\n",
    "    recent_books = collection.find({\"Year\": {\"$gt\": year}})\n",
    "    df = pd.DataFrame(list(recent_books))\n",
    "    print(f\"Libros publicados después de {year}:\")\n",
    "    print(df)"
   ]
  },
  {
   "cell_type": "code",
   "execution_count": null,
   "id": "b0e8b2db",
   "metadata": {},
   "outputs": [],
   "source": [
    "def mostrarLibrosPorAutor(author):\n",
    "    author_books = collection.find({\"Author\": author})\n",
    "    df = pd.DataFrame(list(author_books))\n",
    "    print(f\"Libros de {author}:\")\n",
    "    print(df)"
   ]
  },
  {
   "cell_type": "code",
   "execution_count": null,
   "id": "83c91fee",
   "metadata": {},
   "outputs": [],
   "source": [
    "def contarLibros():\n",
    "    total_books_count = collection.count_documents({})\n",
    "    print(f\"Número total de libros: {total_books_count}\")"
   ]
  },
  {
   "cell_type": "code",
   "execution_count": null,
   "id": "0abda247",
   "metadata": {},
   "outputs": [],
   "source": [
    "def mostrarLibrosConCantidadDeReviews(min_reviews):\n",
    "    high_reviews_books = collection.find({\"Reviews\": {\"$gt\": min_reviews}})\n",
    "    df = pd.DataFrame(list(high_reviews_books))\n",
    "    print(f\"Libros con más de {min_reviews} revisiones:\")\n",
    "    print(df)"
   ]
  },
  {
   "cell_type": "code",
   "execution_count": null,
   "id": "62e7fd55",
   "metadata": {},
   "outputs": [],
   "source": []
  },
  {
   "cell_type": "code",
   "execution_count": null,
   "id": "6f97ed1a",
   "metadata": {},
   "outputs": [],
   "source": []
  },
  {
   "cell_type": "code",
   "execution_count": null,
   "id": "4844fb1d",
   "metadata": {},
   "outputs": [],
   "source": []
  },
  {
   "cell_type": "code",
   "execution_count": null,
   "id": "15c173cd",
   "metadata": {},
   "outputs": [],
   "source": []
  },
  {
   "cell_type": "code",
   "execution_count": null,
   "id": "08c6621c",
   "metadata": {},
   "outputs": [],
   "source": []
  },
  {
   "cell_type": "code",
   "execution_count": 57,
   "id": "dbfe4c23",
   "metadata": {},
   "outputs": [],
   "source": [
    "def create(book_data): #Agregar un libro\n",
    "    result = collection.insert_one(book_data)\n",
    "    print(f\"Nuevo libro insertado. ID: {result.inserted_id}\")\n",
    "\n",
    "def delete(book_name): # Eliminar un libro por el nombre\n",
    "    delete_criteria = {\"Name\": book_name}\n",
    "    collection.delete_one(delete_criteria)\n",
    "    print(f\"Libro '{book_name}' eliminado.\")\n",
    "\n",
    "def update(): \n",
    "    update_all_criteria = {\"Genre\": \"Ficción\"}\n",
    "    update_all_data = {\"$set\": {\"Genre\": \"No Ficción\"}}\n",
    "    collection.update_many(update_all_criteria, update_all_data)\n",
    "    print(\"Género de libros actualizado a No Ficción.\")\n",
    "\n",
    "def mostrarTodosLosLibros():\n",
    "    all_books = collection.find()\n",
    "    df = pd.DataFrame(list(all_books))\n",
    "    print(\"Todos los libros:\")\n",
    "    print(df)\n",
    "\n",
    "def mostrarLibrosConCalificacionMayorA(min_rating):\n",
    "    high_rated_books = collection.find({\"User Rating\": {\"$gt\": min_rating}})\n",
    "    df = pd.DataFrame(list(high_rated_books))\n",
    "    print(f\"Libros con calificación de usuario superior a {min_rating}:\")\n",
    "    print(df)\n",
    "\n",
    "def updateLibroHora(book_name, new_price):\n",
    "    update_criteria = {\"Name\": book_name}\n",
    "    update_data = {\"$set\": {\"Price\": new_price}}\n",
    "    collection.update_one(update_criteria, update_data)\n",
    "    print(f\"Precio del libro '{book_name}' actualizado.\")\n",
    "\n",
    "def mostrarLibroDespuesDelAnio(year):\n",
    "    recent_books = collection.find({\"Year\": {\"$gt\": year}})\n",
    "    df = pd.DataFrame(list(recent_books))\n",
    "    print(f\"Libros publicados después de {year}:\")\n",
    "    print(df)\n",
    "\n",
    "def mostrarLibrosPorAutor(author):\n",
    "    author_books = collection.find({\"Author\": author})\n",
    "    df = pd.DataFrame(list(author_books))\n",
    "    print(f\"Libros de {author}:\")\n",
    "    print(df)\n",
    "\n",
    "def contarLibros():\n",
    "    total_books_count = collection.count_documents({})\n",
    "    print(f\"Número total de libros: {total_books_count}\")\n",
    "\n",
    "def mostrarLibrosConCantidadDeReviews(min_reviews):\n",
    "    high_reviews_books = collection.find({\"Reviews\": {\"$gt\": min_reviews}})\n",
    "    df = pd.DataFrame(list(high_reviews_books))\n",
    "    print(f\"Libros con más de {min_reviews} revisiones:\")\n",
    "    print(df)\n",
    "\n",
    "\n"
   ]
  },
  {
   "cell_type": "code",
   "execution_count": 58,
   "id": "98aff6a6",
   "metadata": {},
   "outputs": [
    {
     "name": "stdout",
     "output_type": "stream",
     "text": [
      "Nuevo libro insertado. ID: 6584741f963bff7135e711d5\n"
     ]
    }
   ],
   "source": [
    "\n",
    "# Crear un nuevo libro\n",
    "new_book_data = {\n",
    "    \"Name\": \"Nuevo Libro\",\n",
    "    \"Author\": \"Autor Desconocido\",\n",
    "    \"User Rating\": 4.5,\n",
    "    \"Reviews\": 100,\n",
    "    \"Price\": 19.99,\n",
    "    \"Year\": 2023,\n",
    "    \"Genre\": \"Ficción\"\n",
    "}\n",
    "create(new_book_data)"
   ]
  },
  {
   "cell_type": "code",
   "execution_count": 59,
   "id": "6a002556",
   "metadata": {},
   "outputs": [
    {
     "name": "stdout",
     "output_type": "stream",
     "text": [
      "Todos los libros:\n",
      "                          _id  \\\n",
      "0    658473cab7363459426a1435   \n",
      "1    658473cab7363459426a1436   \n",
      "2    658473cab7363459426a1437   \n",
      "3    658473cab7363459426a1438   \n",
      "4    658473cab7363459426a1439   \n",
      "..                        ...   \n",
      "546  658473cab7363459426a1657   \n",
      "547  658473cab7363459426a1658   \n",
      "548  658473cab7363459426a1659   \n",
      "549  658473cab7363459426a165a   \n",
      "550  6584741f963bff7135e711d5   \n",
      "\n",
      "                                                  Name  \\\n",
      "0                        10-Day Green Smoothie Cleanse   \n",
      "1                                    11/22/63: A Novel   \n",
      "2              12 Rules for Life: An Antidote to Chaos   \n",
      "3                               1984 (Signet Classics)   \n",
      "4    5,000 Awesome Facts (About Everything!) (Natio...   \n",
      "..                                                 ...   \n",
      "546  You Are a Badass: How to Stop Doubting Your Gr...   \n",
      "547  You Are a Badass: How to Stop Doubting Your Gr...   \n",
      "548  You Are a Badass: How to Stop Doubting Your Gr...   \n",
      "549  You Are a Badass: How to Stop Doubting Your Gr...   \n",
      "550                                        Nuevo Libro   \n",
      "\n",
      "                       Author  User Rating  Reviews  Price  Year        Genre  \n",
      "0                    JJ Smith          4.7    17350      8  2016  Non Fiction  \n",
      "1                Stephen King          4.6     2052     22  2011      Fiction  \n",
      "2          Jordan B. Peterson          4.7    18979     15  2018  Non Fiction  \n",
      "3               George Orwell          4.7    21424      6  2017      Fiction  \n",
      "4    National Geographic Kids          4.8     7665     12  2019  Non Fiction  \n",
      "..                        ...          ...      ...    ...   ...          ...  \n",
      "546               Jen Sincero          4.7    14331      8  2016  Non Fiction  \n",
      "547               Jen Sincero          4.7    14331      8  2017  Non Fiction  \n",
      "548               Jen Sincero          4.7    14331      8  2018  Non Fiction  \n",
      "549               Jen Sincero          4.7    14331      8  2019  Non Fiction  \n",
      "550         Autor Desconocido          4.5      100  19.99  2023      Ficción  \n",
      "\n",
      "[551 rows x 8 columns]\n"
     ]
    }
   ],
   "source": [
    "# Mostrar todos los libros\n",
    "mostrarTodosLosLibros()"
   ]
  },
  {
   "cell_type": "code",
   "execution_count": 60,
   "id": "27ca908d",
   "metadata": {},
   "outputs": [
    {
     "name": "stdout",
     "output_type": "stream",
     "text": [
      "Género de libros actualizado a No Ficción.\n"
     ]
    }
   ],
   "source": [
    "# Actualiza ek genero ficicon por no ficcion\n",
    "update()"
   ]
  },
  {
   "cell_type": "code",
   "execution_count": 61,
   "id": "460380c8",
   "metadata": {},
   "outputs": [
    {
     "name": "stdout",
     "output_type": "stream",
     "text": [
      "Libros con calificación de usuario superior a 4.0:\n",
      "                          _id  \\\n",
      "0    658473cab7363459426a1435   \n",
      "1    658473cab7363459426a1436   \n",
      "2    658473cab7363459426a1437   \n",
      "3    658473cab7363459426a1438   \n",
      "4    658473cab7363459426a1439   \n",
      "..                        ...   \n",
      "525  658473cab7363459426a1657   \n",
      "526  658473cab7363459426a1658   \n",
      "527  658473cab7363459426a1659   \n",
      "528  658473cab7363459426a165a   \n",
      "529  6584741f963bff7135e711d5   \n",
      "\n",
      "                                                  Name  \\\n",
      "0                        10-Day Green Smoothie Cleanse   \n",
      "1                                    11/22/63: A Novel   \n",
      "2              12 Rules for Life: An Antidote to Chaos   \n",
      "3                               1984 (Signet Classics)   \n",
      "4    5,000 Awesome Facts (About Everything!) (Natio...   \n",
      "..                                                 ...   \n",
      "525  You Are a Badass: How to Stop Doubting Your Gr...   \n",
      "526  You Are a Badass: How to Stop Doubting Your Gr...   \n",
      "527  You Are a Badass: How to Stop Doubting Your Gr...   \n",
      "528  You Are a Badass: How to Stop Doubting Your Gr...   \n",
      "529                                        Nuevo Libro   \n",
      "\n",
      "                       Author  User Rating  Reviews  Price  Year        Genre  \n",
      "0                    JJ Smith          4.7    17350      8  2016  Non Fiction  \n",
      "1                Stephen King          4.6     2052     22  2011      Fiction  \n",
      "2          Jordan B. Peterson          4.7    18979     15  2018  Non Fiction  \n",
      "3               George Orwell          4.7    21424      6  2017      Fiction  \n",
      "4    National Geographic Kids          4.8     7665     12  2019  Non Fiction  \n",
      "..                        ...          ...      ...    ...   ...          ...  \n",
      "525               Jen Sincero          4.7    14331      8  2016  Non Fiction  \n",
      "526               Jen Sincero          4.7    14331      8  2017  Non Fiction  \n",
      "527               Jen Sincero          4.7    14331      8  2018  Non Fiction  \n",
      "528               Jen Sincero          4.7    14331      8  2019  Non Fiction  \n",
      "529         Autor Desconocido          4.5      100  19.99  2023   No Ficción  \n",
      "\n",
      "[530 rows x 8 columns]\n"
     ]
    }
   ],
   "source": [
    "# Mostrar libros con calificación superior a 4.0\n",
    "mostrarLibrosConCalificacionMayorA(4.0)"
   ]
  },
  {
   "cell_type": "code",
   "execution_count": 62,
   "id": "e781cb1c",
   "metadata": {},
   "outputs": [
    {
     "name": "stdout",
     "output_type": "stream",
     "text": [
      "Precio del libro 'Nuevo Libro' actualizado.\n"
     ]
    }
   ],
   "source": [
    "# Actualizar el precio de un libro\n",
    "updateLibroHora(new_book_data[\"Name\"], 23)"
   ]
  },
  {
   "cell_type": "code",
   "execution_count": 63,
   "id": "ea0a1e8a",
   "metadata": {},
   "outputs": [
    {
     "name": "stdout",
     "output_type": "stream",
     "text": [
      "Libros publicados después de 1000:\n",
      "                          _id  \\\n",
      "0    658473cab7363459426a1435   \n",
      "1    658473cab7363459426a1436   \n",
      "2    658473cab7363459426a1437   \n",
      "3    658473cab7363459426a1438   \n",
      "4    658473cab7363459426a1439   \n",
      "..                        ...   \n",
      "546  658473cab7363459426a1657   \n",
      "547  658473cab7363459426a1658   \n",
      "548  658473cab7363459426a1659   \n",
      "549  658473cab7363459426a165a   \n",
      "550  6584741f963bff7135e711d5   \n",
      "\n",
      "                                                  Name  \\\n",
      "0                        10-Day Green Smoothie Cleanse   \n",
      "1                                    11/22/63: A Novel   \n",
      "2              12 Rules for Life: An Antidote to Chaos   \n",
      "3                               1984 (Signet Classics)   \n",
      "4    5,000 Awesome Facts (About Everything!) (Natio...   \n",
      "..                                                 ...   \n",
      "546  You Are a Badass: How to Stop Doubting Your Gr...   \n",
      "547  You Are a Badass: How to Stop Doubting Your Gr...   \n",
      "548  You Are a Badass: How to Stop Doubting Your Gr...   \n",
      "549  You Are a Badass: How to Stop Doubting Your Gr...   \n",
      "550                                        Nuevo Libro   \n",
      "\n",
      "                       Author  User Rating  Reviews Price  Year        Genre  \n",
      "0                    JJ Smith          4.7    17350     8  2016  Non Fiction  \n",
      "1                Stephen King          4.6     2052    22  2011      Fiction  \n",
      "2          Jordan B. Peterson          4.7    18979    15  2018  Non Fiction  \n",
      "3               George Orwell          4.7    21424     6  2017      Fiction  \n",
      "4    National Geographic Kids          4.8     7665    12  2019  Non Fiction  \n",
      "..                        ...          ...      ...   ...   ...          ...  \n",
      "546               Jen Sincero          4.7    14331     8  2016  Non Fiction  \n",
      "547               Jen Sincero          4.7    14331     8  2017  Non Fiction  \n",
      "548               Jen Sincero          4.7    14331     8  2018  Non Fiction  \n",
      "549               Jen Sincero          4.7    14331     8  2019  Non Fiction  \n",
      "550         Autor Desconocido          4.5      100    23  2023   No Ficción  \n",
      "\n",
      "[551 rows x 8 columns]\n"
     ]
    }
   ],
   "source": [
    "# mostramos los libros publicados después de un año\n",
    "mostrarLibroDespuesDelAnio(1000)"
   ]
  },
  {
   "cell_type": "code",
   "execution_count": 64,
   "id": "9f96488d",
   "metadata": {},
   "outputs": [
    {
     "name": "stdout",
     "output_type": "stream",
     "text": [
      "Libro 'Nuevo Libro' eliminado.\n"
     ]
    }
   ],
   "source": [
    "\n",
    "# Eliminamos el libro por el nombre\n",
    "delete(new_book_data[\"Name\"])"
   ]
  },
  {
   "cell_type": "code",
   "execution_count": 65,
   "id": "807cee6e",
   "metadata": {},
   "outputs": [
    {
     "name": "stdout",
     "output_type": "stream",
     "text": [
      "Libros de Stephen King:\n",
      "                        _id                       Name        Author  \\\n",
      "0  658473cab7363459426a1436          11/22/63: A Novel  Stephen King   \n",
      "1  658473cab7363459426a1484      Doctor Sleep: A Novel  Stephen King   \n",
      "2  658473cab7363459426a14f7  Joyland (Hard Case Crime)  Stephen King   \n",
      "3  658473cab7363459426a163d    Under the Dome: A Novel  Stephen King   \n",
      "\n",
      "   User Rating  Reviews Price  Year    Genre  \n",
      "0          4.6     2052    22  2011  Fiction  \n",
      "1          4.7    15845    13  2013  Fiction  \n",
      "2          4.5     4748    12  2013  Fiction  \n",
      "3          4.3     6740    20  2009  Fiction  \n"
     ]
    }
   ],
   "source": [
    "# Mostramos los libros por autor\n",
    "mostrarLibrosPorAutor( \"Stephen King\")"
   ]
  },
  {
   "cell_type": "code",
   "execution_count": 66,
   "id": "05b171ef",
   "metadata": {},
   "outputs": [
    {
     "name": "stdout",
     "output_type": "stream",
     "text": [
      "Número total de libros: 550\n"
     ]
    }
   ],
   "source": [
    "# Contar el numero de libros\n",
    "contarLibros()"
   ]
  },
  {
   "cell_type": "code",
   "execution_count": 67,
   "id": "2aa9ce91",
   "metadata": {},
   "outputs": [
    {
     "name": "stdout",
     "output_type": "stream",
     "text": [
      "Libros con más de 12643 revisiones:\n",
      "                          _id  \\\n",
      "0    658473cab7363459426a1435   \n",
      "1    658473cab7363459426a1437   \n",
      "2    658473cab7363459426a1438   \n",
      "3    658473cab7363459426a143b   \n",
      "4    658473cab7363459426a143c   \n",
      "..                        ...   \n",
      "174  658473cab7363459426a1655   \n",
      "175  658473cab7363459426a1657   \n",
      "176  658473cab7363459426a1658   \n",
      "177  658473cab7363459426a1659   \n",
      "178  658473cab7363459426a165a   \n",
      "\n",
      "                                                  Name               Author  \\\n",
      "0                        10-Day Green Smoothie Cleanse             JJ Smith   \n",
      "1              12 Rules for Life: An Antidote to Chaos   Jordan B. Peterson   \n",
      "2                               1984 (Signet Classics)        George Orwell   \n",
      "3    A Game of Thrones / A Clash of Kings / A Storm...  George R. R. Martin   \n",
      "4                       A Gentleman in Moscow: A Novel          Amor Towles   \n",
      "..                                                 ...                  ...   \n",
      "174                                             Wonder        R. J. Palacio   \n",
      "175  You Are a Badass: How to Stop Doubting Your Gr...          Jen Sincero   \n",
      "176  You Are a Badass: How to Stop Doubting Your Gr...          Jen Sincero   \n",
      "177  You Are a Badass: How to Stop Doubting Your Gr...          Jen Sincero   \n",
      "178  You Are a Badass: How to Stop Doubting Your Gr...          Jen Sincero   \n",
      "\n",
      "     User Rating  Reviews Price  Year        Genre  \n",
      "0            4.7    17350     8  2016  Non Fiction  \n",
      "1            4.7    18979    15  2018  Non Fiction  \n",
      "2            4.7    21424     6  2017      Fiction  \n",
      "3            4.7    19735    30  2014      Fiction  \n",
      "4            4.7    19699    15  2017      Fiction  \n",
      "..           ...      ...   ...   ...          ...  \n",
      "174          4.8    21625     9  2017      Fiction  \n",
      "175          4.7    14331     8  2016  Non Fiction  \n",
      "176          4.7    14331     8  2017  Non Fiction  \n",
      "177          4.7    14331     8  2018  Non Fiction  \n",
      "178          4.7    14331     8  2019  Non Fiction  \n",
      "\n",
      "[179 rows x 8 columns]\n"
     ]
    }
   ],
   "source": [
    "# Mostrar los libros por un minimo de cantidad de reviews\n",
    "mostrarLibrosConCantidadDeReviews(12643)"
   ]
  },
  {
   "cell_type": "code",
   "execution_count": 68,
   "id": "2557172e",
   "metadata": {},
   "outputs": [],
   "source": [
    "# Cerrar la conexión a MongoDB\n",
    "client.close() "
   ]
  },
  {
   "cell_type": "code",
   "execution_count": null,
   "id": "527c7dab",
   "metadata": {},
   "outputs": [],
   "source": []
  }
 ],
 "metadata": {
  "kernelspec": {
   "display_name": "Python 3 (ipykernel)",
   "language": "python",
   "name": "python3"
  },
  "language_info": {
   "codemirror_mode": {
    "name": "ipython",
    "version": 3
   },
   "file_extension": ".py",
   "mimetype": "text/x-python",
   "name": "python",
   "nbconvert_exporter": "python",
   "pygments_lexer": "ipython3",
   "version": "3.9.5"
  }
 },
 "nbformat": 4,
 "nbformat_minor": 5
}
